{
  "nbformat": 4,
  "nbformat_minor": 0,
  "metadata": {
    "colab": {
      "provenance": []
    },
    "kernelspec": {
      "name": "python3",
      "display_name": "Python 3"
    },
    "language_info": {
      "name": "python"
    }
  },
  "cells": [
    {
      "cell_type": "code",
      "execution_count": null,
      "metadata": {
        "id": "8UlnIJUM2MZC"
      },
      "outputs": [],
      "source": [
        "import pandas as pd\n",
        "import numpy as np\n",
        "from sklearn import svm\n",
        "from sklearn.metrics import accuracy_score\n",
        "import pandas as pd\n",
        "df=pd.read_csv('shuffled_new.csv')"
      ]
    },
    {
      "cell_type": "code",
      "source": [
        "#A1\n",
        "X=df[['malignant','highly_malignant','rude','threat','abuse','loathe']].values\n",
        "y=df['YES/NO'].values\n",
        "np.random.seed(42)\n",
        "noise=np.random.rand(X.shape[0],X.shape[1]) * 0.1\n",
        "X=X=noise\n",
        "X_train,X_test,y_train,y_test=train_test_split(X,y,test_size=0.2,random_state=42)\n",
        "clf=svm.SVC()\n",
        "clf.fit(X_train,y_train)\n",
        "support_vectors=clf.support_vectors_"
      ],
      "metadata": {
        "id": "iH6XI-1d42hS"
      },
      "execution_count": null,
      "outputs": []
    },
    {
      "cell_type": "code",
      "source": [
        "#A2\n",
        "accuracy=clf.score(X_test,y_test)\n",
        "print(\"Accuracy:\",accuracy)"
      ],
      "metadata": {
        "colab": {
          "base_uri": "https://localhost:8080/"
        },
        "id": "v-emFo9UChI_",
        "outputId": "6d4fb91f-1699-4e4e-ec14-f79e185394e8"
      },
      "execution_count": null,
      "outputs": [
        {
          "output_type": "stream",
          "name": "stdout",
          "text": [
            "Accuracy: 1.0\n"
          ]
        }
      ]
    },
    {
      "cell_type": "code",
      "source": [
        "#A3\n",
        "test_vector=[0,1,1,0,0,1]\n",
        "predicted_class=clf.predict([test_vector])\n",
        "print(\"Predicted class:\",predicted_class)\n",
        "predicted_labels=clf.predict(X_test)"
      ],
      "metadata": {
        "colab": {
          "base_uri": "https://localhost:8080/"
        },
        "id": "zv1iXcciCiDL",
        "outputId": "b140e79b-982a-4907-baa5-9f0ecd508fb7"
      },
      "execution_count": null,
      "outputs": [
        {
          "output_type": "stream",
          "name": "stdout",
          "text": [
            "Predicted class: ['YES']\n"
          ]
        }
      ]
    },
    {
      "cell_type": "code",
      "source": [
        "# A4\n",
        "kernels=['linear','poly','rbf','sigmoid']\n",
        "\n",
        "for kernel in kernels:\n",
        "    clf=svm.SVC(kernel=kernel)\n",
        "    clf.fit(X_train,y_train)\n",
        "    predicted_labels=clf.predict(X_test)\n",
        "    accuracy=accuracy_score(y_test,predicted_labels)\n",
        "    print(f\"Accuracy with {kernel} kernel:\",accuracy)"
      ],
      "metadata": {
        "colab": {
          "base_uri": "https://localhost:8080/"
        },
        "id": "kxo5sxJeC0lE",
        "outputId": "2e5b7ba7-2a09-49bf-cc4a-c810a8514368"
      },
      "execution_count": null,
      "outputs": [
        {
          "output_type": "stream",
          "name": "stdout",
          "text": [
            "Accuracy with linear kernel: 1.0\n",
            "Accuracy with poly kernel: 1.0\n",
            "Accuracy with rbf kernel: 1.0\n",
            "Accuracy with sigmoid kernel: 0.9950940310711366\n"
          ]
        }
      ]
    }
  ]
}