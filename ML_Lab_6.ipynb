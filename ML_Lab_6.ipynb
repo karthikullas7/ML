{
  "nbformat": 4,
  "nbformat_minor": 0,
  "metadata": {
    "colab": {
      "provenance": []
    },
    "kernelspec": {
      "name": "python3",
      "display_name": "Python 3"
    },
    "language_info": {
      "name": "python"
    }
  },
  "cells": [
    {
      "cell_type": "code",
      "execution_count": 49,
      "metadata": {
        "id": "e7VkLzIYCBv1"
      },
      "outputs": [],
      "source": [
        "#Importing all necessary libaries and loading dataset file\n",
        "import pandas as pd\n",
        "import numpy as np\n",
        "import matplotlib.pyplot as plt\n",
        "from sklearn.linear_model import LinearRegression,LogisticRegression\n",
        "from sklearn.tree import DecisionTreeRegressor\n",
        "from sklearn.neighbors import KNeighborsRegressor\n",
        "from sklearn.metrics import mean_squared_error,accuracy_score,classification_report\n",
        "from sklearn.feature_extraction.text import TfidfVectorizer\n",
        "from sklearn.model_selection import train_test_split\n",
        "from sklearn.metrics import mean_absolute_error,mean_squared_error,r2_score\n",
        "from sklearn.preprocessing import LabelEncoder\n",
        "df=pd.read_csv('shuffled_new.csv')\n"
      ]
    },
    {
      "cell_type": "code",
      "source": [
        "#A1\n",
        "x=df['malignant']\n",
        "y=df['highly_malignant']\n",
        "plt.scatter(x,y)\n",
        "plt.xlabel('Malignant')\n",
        "plt.ylabel('Highly Malignant')\n",
        "plt.title('Scatter Plot of Malignant vs Highly Malignant')\n",
        "plt.show()"
      ],
      "metadata": {
        "colab": {
          "base_uri": "https://localhost:8080/",
          "height": 472
        },
        "id": "mzv-I7TKJ6vc",
        "outputId": "813eefad-bae0-467d-89d4-d4e6ce3b1f38"
      },
      "execution_count": 50,
      "outputs": [
        {
          "output_type": "display_data",
          "data": {
            "text/plain": [
              "<Figure size 640x480 with 1 Axes>"
            ],
            "image/png": "[encoded data removed]"
          },
          "metadata": {}
        }
      ]
    },
    {
      "cell_type": "code",
      "source": [
        "#A2\n",
        "x=df['malignant'].values.reshape(-1,1)\n",
        "y=df['highly_malignant'].values.reshape(-1,1)\n",
        "train_size=int(len(x) * 0.7)\n",
        "x_train,x_test=x[:train_size],x[train_size:]\n",
        "y_train,y_test=y[:train_size],y[train_size:]\n",
        "model=LinearRegression()\n",
        "model.fit(x_train,y_train)\n",
        "y_pred=model.predict(x_test)\n",
        "mse=mean_squared_error(y_test,y_pred)\n",
        "print('Mean Squared Error:',mse)"
      ],
      "metadata": {
        "colab": {
          "base_uri": "https://localhost:8080/"
        },
        "id": "4dOihMOWIL6q",
        "outputId": "ae0f6ec4-3ac3-429a-9aff-37842f5a132f"
      },
      "execution_count": 51,
      "outputs": [
        {
          "output_type": "stream",
          "name": "stdout",
          "text": [
            "Mean Squared Error: 0.05392358919477622\n"
          ]
        }
      ]
    },
    {
      "cell_type": "code",
      "source": [
        "#A3\n",
        "print('Coefficients:',model.coef_)\n",
        "print('Intercept:',model.intercept_)\n",
        "print('R^2:',model.score(x,y))\n",
        "x_new=np.array([[1],[2],[3]])\n",
        "y_new=model.predict(x_new)\n",
        "print('Predicted Values:',y_new)"
      ],
      "metadata": {
        "colab": {
          "base_uri": "https://localhost:8080/"
        },
        "id": "6qBbc5MsIhUO",
        "outputId": "814ba6de-13aa-4d60-e7fa-3289e9cb1646"
      },
      "execution_count": 52,
      "outputs": [
        {
          "output_type": "stream",
          "name": "stdout",
          "text": [
            "Coefficients: [[0.10137566]]\n",
            "Intercept: [-2.08166817e-16]\n",
            "R^2: 0.047946632712100756\n",
            "Predicted Values: [[0.10137566]\n",
            " [0.20275132]\n",
            " [0.30412698]]\n"
          ]
        }
      ]
    },
    {
      "cell_type": "code",
      "source": [
        "#A4\n",
        "df['YES/NO']=df['YES/NO'].apply(lambda x: 1 if x == 'YES' else 0)\n",
        "X=df['comment_text']\n",
        "y=df['YES/NO']\n",
        "X_train,X_test,y_train,y_test=train_test_split(X,y,test_size=0.2,random_state=42)\n",
        "tfidf_vectorizer=TfidfVectorizer(max_features=1000)\n",
        "X_train_tfidf=tfidf_vectorizer.fit_transform(X_train)\n",
        "X_test_tfidf=tfidf_vectorizer.transform(X_test)\n",
        "logistic_regression_model=LogisticRegression()\n",
        "logistic_regression_model.fit(X_train_tfidf,y_train)\n",
        "y_pred=logistic_regression_model.predict(X_test_tfidf)\n",
        "accuracy=accuracy_score(y_test,y_pred)\n",
        "classification_rep=classification_report(y_test,y_pred)\n",
        "print(f\"Accuracy: {accuracy}\")\n",
        "print(f\"Classification Report:\\n{classification_rep}\")"
      ],
      "metadata": {
        "colab": {
          "base_uri": "https://localhost:8080/"
        },
        "id": "N0eKlj4SJKXs",
        "outputId": "c7143e49-c2ca-43bb-ae9e-3f546ef32c6f"
      },
      "execution_count": 53,
      "outputs": [
        {
          "output_type": "stream",
          "name": "stdout",
          "text": [
            "Accuracy: 0.8626328699918234\n",
            "Classification Report:\n",
            "              precision    recall  f1-score   support\n",
            "\n",
            "           0       0.84      0.86      0.85      1085\n",
            "           1       0.88      0.87      0.88      1361\n",
            "\n",
            "    accuracy                           0.86      2446\n",
            "   macro avg       0.86      0.86      0.86      2446\n",
            "weighted avg       0.86      0.86      0.86      2446\n",
            "\n"
          ]
        }
      ]
    },
    {
      "cell_type": "code",
      "source": [
        "#A5\n",
        "le=LabelEncoder()\n",
        "df['YES/NO']=le.fit_transform(df['YES/NO'])\n",
        "X_reg=df[['malignant','highly_malignant','rude','threat','abuse','loathe']]\n",
        "y_reg=df['YES/NO']\n",
        "X_train_reg,X_test_reg,y_train_reg,y_test_reg=train_test_split(X_reg,y_reg,test_size=0.2,random_state=42)\n",
        "regression_tree_model=DecisionTreeRegressor()\n",
        "regression_tree_model.fit(X_train_reg,y_train_reg)\n",
        "y_pred_tree=regression_tree_model.predict(X_test_reg)\n",
        "mae_tree=mean_absolute_error(y_test_reg,y_pred_tree)\n",
        "mse_tree=mean_squared_error(y_test_reg,y_pred_tree)\n",
        "r2_tree=r2_score(y_test_reg,y_pred_tree)\n",
        "print(f\"Regression Tree-Mean Absolute Error:{mae_tree}\")\n",
        "print(f\"Regression Tree-Mean Squared Error:{mse_tree}\")\n",
        "print(f\"Regression Tree-R-squared:{r2_tree}\")\n",
        "knn_regressor_model=KNeighborsRegressor(n_neighbors=5)\n",
        "knn_regressor_model.fit(X_train_reg,y_train_reg)\n",
        "y_pred_knn=knn_regressor_model.predict(X_test_reg)\n",
        "mae_knn=mean_absolute_error(y_test_reg,y_pred_knn)\n",
        "mse_knn=mean_squared_error(y_test_reg,y_pred_knn)\n",
        "r2_knn=r2_score(y_test_reg,y_pred_knn)\n",
        "print(f\"k-NN Regressor-Mean Absolute Error:{mae_knn}\")\n",
        "print(f\"k-NN Regressor-Mean Squared Error:{mse_knn}\")\n",
        "print(f\"k-NN Regressor-R-squared:{r2_knn}\")"
      ],
      "metadata": {
        "colab": {
          "base_uri": "https://localhost:8080/"
        },
        "id": "sc3KNL-UMACq",
        "outputId": "05a6db1a-f23f-4ae6-9fbd-daea2fd11854"
      },
      "execution_count": 54,
      "outputs": [
        {
          "output_type": "stream",
          "name": "stdout",
          "text": [
            "Regression Tree-Mean Absolute Error:0.0\n",
            "Regression Tree-Mean Squared Error:0.0\n",
            "Regression Tree-R-squared:1.0\n",
            "k-NN Regressor-Mean Absolute Error:0.0\n",
            "k-NN Regressor-Mean Squared Error:0.0\n",
            "k-NN Regressor-R-squared:1.0\n"
          ]
        }
      ]
    }
  ]
}